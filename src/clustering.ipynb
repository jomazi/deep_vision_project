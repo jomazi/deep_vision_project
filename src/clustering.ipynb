{
 "cells": [
  {
   "cell_type": "markdown",
   "metadata": {},
   "source": [
    "## Import"
   ]
  },
  {
   "cell_type": "code",
   "execution_count": 31,
   "metadata": {},
   "outputs": [],
   "source": [
    "import torch\n",
    "import torch.nn as nn\n",
    "import torch.nn.functional as F\n",
    "import torch.optim as optim\n",
    "\n",
    "from torch.utils.data.dataset import Dataset\n",
    "from torchvision import transforms, models\n",
    "from torch.autograd import Variable\n",
    "\n",
    "import os.path\n",
    "import glob\n",
    "import numpy as np\n",
    "import matplotlib.pyplot as plt\n",
    "\n",
    "from fcts.load_data import load_data\n",
    "\n",
    "from tqdm import tqdm_notebook as tqdm"
   ]
  },
  {
   "cell_type": "markdown",
   "metadata": {},
   "source": [
    "## Configuration"
   ]
  },
  {
   "cell_type": "code",
   "execution_count": 2,
   "metadata": {},
   "outputs": [],
   "source": [
    "# batch size\n",
    "bs = 128\n",
    "# GPU or CPU\n",
    "if torch.cuda.is_available():\n",
    "    device = 'cuda'\n",
    "else:\n",
    "    device = 'cpu'"
   ]
  },
  {
   "cell_type": "markdown",
   "metadata": {},
   "source": [
    "## Data"
   ]
  },
  {
   "cell_type": "code",
   "execution_count": 3,
   "metadata": {},
   "outputs": [],
   "source": [
    "class IconDataset(Dataset):\n",
    "    def __init__(self, part='train', transform=None):\n",
    "        \"\"\"\n",
    "        part: get either train or test set; string\n",
    "        transforms = transformations, that should be applied on dataset\n",
    "        \"\"\"\n",
    "        self.data = load_data(part=part)\n",
    "        self.transform = transform\n",
    "\n",
    "    def __getitem__(self, index):\n",
    "        img = self.data[index]\n",
    "        # transform image \n",
    "        if self.transform is not None:\n",
    "            img_transformed = self.transform(img)\n",
    "        # return transformed image\n",
    "        return img_transformed\n",
    "\n",
    "    def __len__(self):\n",
    "        return self.data.shape[0]"
   ]
  },
  {
   "cell_type": "code",
   "execution_count": 4,
   "metadata": {},
   "outputs": [],
   "source": [
    "# define transformations\n",
    "trafo_train = transforms.Compose([transforms.ToTensor()])\n",
    "trafo_test = transforms.Compose([transforms.ToTensor()])\n",
    "# datasets\n",
    "train_set = IconDataset(transform=trafo_train)\n",
    "test_set = IconDataset(part='test', transform=trafo_test)\n",
    "# dataloader\n",
    "train_loader = torch.utils.data.DataLoader(dataset=train_set, batch_size=bs, shuffle=True)\n",
    "test_loader = torch.utils.data.DataLoader(dataset=test_set, batch_size=bs, shuffle=False)"
   ]
  },
  {
   "cell_type": "markdown",
   "metadata": {},
   "source": [
    "## Variational Autoencoder"
   ]
  },
  {
   "cell_type": "markdown",
   "metadata": {},
   "source": [
    "### Baseline Architecture"
   ]
  },
  {
   "cell_type": "markdown",
   "metadata": {},
   "source": [
    "#### Encoder"
   ]
  },
  {
   "cell_type": "code",
   "execution_count": 5,
   "metadata": {},
   "outputs": [],
   "source": [
    "class Encoder_baseline(nn.Module):\n",
    "\n",
    "    def __init__(self, layer_sizes, latent_dim):\n",
    "        super(Encoder_baseline, self).__init__()\n",
    "        \"\"\"\n",
    "        :param layer_sizes: list of sizes of layers of the encoder; list[int]\n",
    "        :param latent_dim: dimension of latent space, i.e. dimension out output of the encoder; int\n",
    "        \"\"\"\n",
    "        # store values\n",
    "        self.latent_dim = latent_dim\n",
    "        \n",
    "        # initialize layers\n",
    "        layer_list = []\n",
    "        for in_dim, out_dim in zip(layer_sizes, layer_sizes[1:]):\n",
    "            layer_list.append(nn.Linear(in_dim, out_dim))\n",
    "            layer_list.append(nn.ReLU())\n",
    "        \n",
    "        # store layers\n",
    "        self.layers = nn.Sequential(*layer_list)\n",
    "        \n",
    "        # layers for latent space output\n",
    "        self.out_mean = nn.Linear(layer_sizes[-1], latent_dim)\n",
    "        self.out_var = nn.Linear(layer_sizes[-1], latent_dim)\n",
    "    \n",
    "    def forward(self, x):  \n",
    "        \"\"\" \n",
    "        :param x: tensor of dimension (batch_size, 3, 32, 32)\n",
    "        :return means: tensor of dimension (batch_size, 3, latent_dim)\n",
    "        :return log_var: tensor of dimension (batch_size, 3, latent_dim)\n",
    "        \"\"\"\n",
    "        \n",
    "        # flatten x\n",
    "        x = x.view(-1, 3, 32*32)\n",
    "        \n",
    "        # forward \n",
    "        out = self.layers(x)\n",
    "        \n",
    "        # latent space output\n",
    "        means = self.out_mean(out)\n",
    "        log_vars = self.out_var(out)\n",
    "     \n",
    "        return means, log_vars\n",
    "    "
   ]
  },
  {
   "cell_type": "markdown",
   "metadata": {},
   "source": [
    "#### Decoder"
   ]
  },
  {
   "cell_type": "code",
   "execution_count": 6,
   "metadata": {},
   "outputs": [],
   "source": [
    "class Decoder_baseline(nn.Module):\n",
    "\n",
    "    def __init__(self, layer_sizes, latent_dim):     \n",
    "        super(Decoder_baseline, self).__init__()\n",
    "        \"\"\"\n",
    "        :param layer_sizes: list of sizes of layers of the decoder; list[int]\n",
    "        :param latent_dim: dimension of latent space, i.e. dimension of input of the decoder; int\n",
    "        \"\"\"\n",
    "\n",
    "        self.latent_dim = latent_dim\n",
    "        \n",
    "        layer_list = [nn.Linear(latent_dim, layer_sizes[0])]\n",
    "        \n",
    "        # initialize layers\n",
    "        for in_dim, out_dim in zip(layer_sizes, layer_sizes[1:]):\n",
    "            layer_list.append(nn.ReLU())\n",
    "            layer_list.append(nn.Linear(in_dim, out_dim))\n",
    "\n",
    "        # store layers\n",
    "        self.layers = nn.Sequential(*layer_list)\n",
    "            \n",
    "    def forward(self, z):\n",
    "        \"\"\"\n",
    "        :param z: tensor of dimension (batch_size, 3, latent_dim)\n",
    "        :return x: mu of gaussian distribution (reconstructed image from latent code z)\n",
    "        \"\"\"\n",
    "\n",
    "        # forward\n",
    "        x = torch.sigmoid(self.layers(z)).view(-1, 3, 32, 32)\n",
    "\n",
    "        return x"
   ]
  },
  {
   "cell_type": "markdown",
   "metadata": {},
   "source": [
    "#### Model"
   ]
  },
  {
   "cell_type": "code",
   "execution_count": 7,
   "metadata": {},
   "outputs": [],
   "source": [
    "class VAE_baseline(nn.Module):\n",
    "\n",
    "    def __init__(self, inp_dim, encoder_layer_sizes, decoder_layer_sizes, latent_dim):\n",
    "        \"\"\"\n",
    "        :param inp_dim: dimension of input; int\n",
    "        :param encoder_layer_sizes: sizes of the encoder layers; list\n",
    "        :param decoder_layer_sizes: sizes of the decoder layers; list\n",
    "        :param latent_dim: dimension of latent space/bottleneck; int\n",
    "        \"\"\"\n",
    "        \n",
    "        super(VAE_baseline, self).__init__()\n",
    "        \n",
    "        self.latent_dim = latent_dim\n",
    "        \n",
    "        self.encoder = Encoder_baseline(encoder_layer_sizes, latent_dim)\n",
    "        self.decoder = Decoder_baseline(decoder_layer_sizes, latent_dim)\n",
    "        \n",
    "    def forward(self, x):\n",
    "        \"\"\" \n",
    "        :param x: tensor of dimension (batch_size, 3, 32, 32)\n",
    "        :return recon_x: reconstructed x\n",
    "        :return means: output of encoder\n",
    "        :return log_var: output of encoder (logarithm of variance)\n",
    "        \"\"\"\n",
    "        batch_size = x.size(0)\n",
    "\n",
    "        x = x.view(-1, 3, 32*32)\n",
    "        means, log_vars = self.encoder(x)\n",
    "        std = torch.exp(.5*log_vars)\n",
    "        eps = torch.randn_like(std)\n",
    "        z = means + eps*std\n",
    "        recon_x = self.decoder(z)\n",
    "\n",
    "        return recon_x, means, log_vars\n",
    "        \n",
    "    def sampling(self, n=2):\n",
    "        \"\"\"\n",
    "        :param n: amount of samples (amount of elements in the latent space); int\n",
    "        :return x_sampled: n randomly sampled elements of the output distribution\n",
    "        \"\"\"\n",
    "        \n",
    "        # draw samples p(z)~N(0,1)\n",
    "        z = torch.randn((n, self.latent_dim))\n",
    "        # generate\n",
    "        x_sampled = self.decoder(z)\n",
    "\n",
    "        return x_sampled"
   ]
  },
  {
   "cell_type": "markdown",
   "metadata": {},
   "source": [
    "### Advanced Architecture"
   ]
  },
  {
   "cell_type": "code",
   "execution_count": 8,
   "metadata": {},
   "outputs": [],
   "source": [
    "class VAE_advanced(nn.Module):\n",
    "    def __init__(self):\n",
    "        super(VAE_advanced, self).__init__()\n",
    "\n",
    "        # Encoder\n",
    "        self.conv1 = nn.Conv2d(3, 16, kernel_size=3, stride=1, padding=1, bias=False)\n",
    "        self.bn1 = nn.BatchNorm2d(16)\n",
    "        self.conv2 = nn.Conv2d(16, 32, kernel_size=3, stride=2, padding=1, bias=False)\n",
    "        self.bn2 = nn.BatchNorm2d(32)\n",
    "        self.conv3 = nn.Conv2d(32, 32, kernel_size=3, stride=1, padding=1, bias=False)\n",
    "        self.bn3 = nn.BatchNorm2d(32)\n",
    "        self.conv4 = nn.Conv2d(32, 16, kernel_size=3, stride=2, padding=1, bias=False)\n",
    "        self.bn4 = nn.BatchNorm2d(16)\n",
    "\n",
    "        self.fc1 = nn.Linear(8 * 8 * 16, 512)\n",
    "        self.fc_bn1 = nn.BatchNorm1d(512)\n",
    "        self.fc21 = nn.Linear(512, 512)\n",
    "        self.fc22 = nn.Linear(512, 512)\n",
    "\n",
    "        # Decoder\n",
    "        self.fc3 = nn.Linear(512, 512)\n",
    "        self.fc_bn3 = nn.BatchNorm1d(512)\n",
    "        self.fc4 = nn.Linear(512, 8 * 8 * 16)\n",
    "        self.fc_bn4 = nn.BatchNorm1d(8 * 8 * 16)\n",
    "\n",
    "        self.conv5 = nn.ConvTranspose2d(16, 32, kernel_size=3, stride=2, padding=1, output_padding=1, bias=False)\n",
    "        self.bn5 = nn.BatchNorm2d(32)\n",
    "        self.conv6 = nn.ConvTranspose2d(32, 32, kernel_size=3, stride=1, padding=1, bias=False)\n",
    "        self.bn6 = nn.BatchNorm2d(32)\n",
    "        self.conv7 = nn.ConvTranspose2d(32, 16, kernel_size=3, stride=2, padding=1, output_padding=1, bias=False)\n",
    "        self.bn7 = nn.BatchNorm2d(16)\n",
    "        self.conv8 = nn.ConvTranspose2d(16, 3, kernel_size=3, stride=1, padding=1, bias=False)\n",
    "\n",
    "        self.relu = nn.ReLU()\n",
    "\n",
    "    def encode(self, x):\n",
    "        conv1 = self.relu(self.bn1(self.conv1(x)))\n",
    "        conv2 = self.relu(self.bn2(self.conv2(conv1)))\n",
    "        conv3 = self.relu(self.bn3(self.conv3(conv2)))\n",
    "        conv4 = self.relu(self.bn4(self.conv4(conv3))).view(-1, 8 * 8 * 16)\n",
    "\n",
    "        fc1 = self.relu(self.fc_bn1(self.fc1(conv4)))\n",
    "        return self.fc21(fc1), self.fc22(fc1)\n",
    "\n",
    "    def reparameterize(self, mu, logvar):\n",
    "        if self.training:\n",
    "            std = logvar.mul(0.5).exp_()\n",
    "            eps = Variable(std.data.new(std.size()).normal_())\n",
    "            return eps.mul(std).add_(mu)\n",
    "        else:\n",
    "            return mu\n",
    "\n",
    "    def decode(self, z):\n",
    "        fc3 = self.relu(self.fc_bn3(self.fc3(z)))\n",
    "        fc4 = self.relu(self.fc_bn4(self.fc4(fc3))).view(-1, 16, 8, 8)\n",
    "\n",
    "        conv5 = self.relu(self.bn5(self.conv5(fc4)))\n",
    "        conv6 = self.relu(self.bn6(self.conv6(conv5)))\n",
    "        conv7 = self.relu(self.bn7(self.conv7(conv6)))\n",
    "        return self.conv8(conv7).view(-1, 3, 32, 32)\n",
    "\n",
    "    def forward(self, x):\n",
    "        mu, logvar = self.encode(x)\n",
    "        z = self.reparameterize(mu, logvar)\n",
    "        return self.decode(z), mu, logvar"
   ]
  },
  {
   "cell_type": "markdown",
   "metadata": {},
   "source": [
    "### Loss"
   ]
  },
  {
   "cell_type": "code",
   "execution_count": 9,
   "metadata": {},
   "outputs": [],
   "source": [
    "# Implement the loss function for the VAE\n",
    "def vae_loss(recon_x, x, mu, log_var, loss_func):\n",
    "    \"\"\"\n",
    "    :param recon_x: reconstruced input\n",
    "    :param x: input\n",
    "    :param mu, log_var: parameters of posterior (distribution of z given x)\n",
    "    :loss_func: loss function to compare input image and constructed image\n",
    "    \"\"\"\n",
    "\n",
    "    recon_loss = loss_func(recon_x, x)\n",
    "    kl_loss = torch.mean(0.5 * torch.sum(\n",
    "        torch.exp(log_var) + mu**2 - 1. - log_var, 1))\n",
    "    return recon_loss + kl_loss"
   ]
  },
  {
   "cell_type": "markdown",
   "metadata": {},
   "source": [
    "### Training Function"
   ]
  },
  {
   "cell_type": "code",
   "execution_count": 10,
   "metadata": {},
   "outputs": [],
   "source": [
    "# Implement the Loss function for the VAE/CVAE\n",
    "def loss_function(recon_x, x, mu, log_var):\n",
    "    \"\"\"\n",
    "    Arguments:\n",
    "        recon_x: reconstruced input\n",
    "        x: input,\n",
    "        mu, log_var: parameters of posterior (distribution of z given x)\n",
    "    \"\"\"\n",
    "    ################################\n",
    "    # TODO: YOUR CODE STARTS BELOW #\n",
    "    ################################\n",
    "    \n",
    "    sigma_g = 1.\n",
    "    \n",
    "    neg_ELBO =0.5 * (torch.sum( mu.pow(2)+log_var.exp()-log_var-1 )+\n",
    "                       torch.sum( (x-recon_x).pow(2)/sigma_g**2. ) )\n",
    "    \n",
    "    print(neg_ELBO)\n",
    "    \n",
    "    return neg_ELBO\n",
    "    ################################\n",
    "    #     YOUR CODE ENDS HERE      #\n",
    "    ################################"
   ]
  },
  {
   "cell_type": "code",
   "execution_count": 11,
   "metadata": {},
   "outputs": [],
   "source": [
    "# Training of the VAE\n",
    "def train(model, epochs, path, optimizer, loss_fct):\n",
    "    \n",
    "    # check for previous trained models and resume from there if available\n",
    "    try:\n",
    "        previous = max(glob.glob(path + '/*.pth'))\n",
    "        print('load previous model')\n",
    "        checkpoint = torch.load(previous)\n",
    "        model.load_state_dict(checkpoint['model_state_dict'])\n",
    "        optimizer.load_state_dict(checkpoint['optimizer_state_dict'])\n",
    "        loss = checkpoint['loss']\n",
    "        epochs_trained = checkpoint['epoch']\n",
    "    except Exception as e:\n",
    "        print('no model to load')\n",
    "        epochs_trained = 0\n",
    "    \n",
    "    model.train()\n",
    "    \n",
    "    for epoch in np.arange(epochs_trained, epochs): \n",
    " \n",
    "        train_loss = 0\n",
    "        for batch_idx, data in enumerate(tqdm(train_loader, desc=f'Train Epoch {epoch}', leave=False)):\n",
    "            x = data\n",
    "            x = x.to(device)\n",
    "            optimizer.zero_grad()\n",
    "\n",
    "            recon_batch,  mu, log_var = model(x)\n",
    "            loss = vae_loss(recon_batch,  x, mu, log_var, loss_fct)\n",
    "            #loss = loss_function(recon_batch,  x, mu, log_var)\n",
    "\n",
    "            loss.backward()\n",
    "            train_loss += loss.item()\n",
    "            optimizer.step()\n",
    "\n",
    "        print('====> Epoch: {} Average loss: {:.4f}'.format(epoch, train_loss / len(train_loader.dataset)))\n",
    "\n",
    "        # save model\n",
    "        torch.save({\n",
    "                'epoch': epoch+1,\n",
    "                'model_state_dict': model.state_dict(),\n",
    "                'optimizer_state_dict': optimizer.state_dict(),\n",
    "                'loss': loss,\n",
    "                }, path+('/vae-{}.pth').format(epoch))"
   ]
  },
  {
   "cell_type": "markdown",
   "metadata": {},
   "source": [
    "### Train"
   ]
  },
  {
   "cell_type": "markdown",
   "metadata": {},
   "source": [
    "#### Baseline Architecture"
   ]
  },
  {
   "cell_type": "code",
   "execution_count": 13,
   "metadata": {},
   "outputs": [],
   "source": [
    "# hyperparameters\n",
    "encoder_layer_sizes = [32*32, 512, 256]\n",
    "decoder_layer_sizes = [256, 512, 32*32]\n",
    "\n",
    "latent_dim_baseline = 2 \n",
    "vae_baseline = VAE_baseline(inp_dim=(32*32), encoder_layer_sizes=encoder_layer_sizes, decoder_layer_sizes=decoder_layer_sizes, latent_dim=latent_dim_baseline)\n",
    "vae_baseline = vae_baseline.to(device)\n",
    "optimizer_baseline = optim.Adam(vae_baseline.parameters(), lr=1e-3)\n",
    "\n",
    "loss_func_baseline = nn.MSELoss()\n",
    "\n",
    "epochs_baseline = 15"
   ]
  },
  {
   "cell_type": "code",
   "execution_count": 15,
   "metadata": {},
   "outputs": [
    {
     "name": "stdout",
     "output_type": "stream",
     "text": [
      "no model to load\n"
     ]
    },
    {
     "data": {
      "application/vnd.jupyter.widget-view+json": {
       "model_id": "",
       "version_major": 2,
       "version_minor": 0
      },
      "text/plain": [
       "HBox(children=(IntProgress(value=0, description='Train Epoch 0', max=2660, style=ProgressStyle(description_wid…"
      ]
     },
     "metadata": {},
     "output_type": "display_data"
    },
    {
     "name": "stdout",
     "output_type": "stream",
     "text": [
      "====> Epoch: 0 Average loss: 0.0009\n"
     ]
    },
    {
     "data": {
      "application/vnd.jupyter.widget-view+json": {
       "model_id": "",
       "version_major": 2,
       "version_minor": 0
      },
      "text/plain": [
       "HBox(children=(IntProgress(value=0, description='Train Epoch 1', max=2660, style=ProgressStyle(description_wid…"
      ]
     },
     "metadata": {},
     "output_type": "display_data"
    },
    {
     "name": "stdout",
     "output_type": "stream",
     "text": [
      "====> Epoch: 1 Average loss: 0.0009\n"
     ]
    },
    {
     "data": {
      "application/vnd.jupyter.widget-view+json": {
       "model_id": "da4e932edfc54b74b602fd1e6dbca5d9",
       "version_major": 2,
       "version_minor": 0
      },
      "text/plain": [
       "HBox(children=(IntProgress(value=0, description='Train Epoch 2', max=2660, style=ProgressStyle(description_wid…"
      ]
     },
     "metadata": {},
     "output_type": "display_data"
    },
    {
     "ename": "KeyboardInterrupt",
     "evalue": "",
     "output_type": "error",
     "traceback": [
      "\u001b[0;31m---------------------------------------------------------------------------\u001b[0m",
      "\u001b[0;31mKeyboardInterrupt\u001b[0m                         Traceback (most recent call last)",
      "\u001b[0;32m<ipython-input-15-50e2303ff963>\u001b[0m in \u001b[0;36m<module>\u001b[0;34m\u001b[0m\n\u001b[0;32m----> 1\u001b[0;31m \u001b[0mtrain\u001b[0m\u001b[0;34m(\u001b[0m\u001b[0mvae_baseline\u001b[0m\u001b[0;34m,\u001b[0m \u001b[0mepochs_baseline\u001b[0m\u001b[0;34m,\u001b[0m \u001b[0;34m'./models/clustering/baseline'\u001b[0m\u001b[0;34m,\u001b[0m \u001b[0moptimizer_baseline\u001b[0m\u001b[0;34m,\u001b[0m \u001b[0mloss_func_baseline\u001b[0m\u001b[0;34m)\u001b[0m\u001b[0;34m\u001b[0m\u001b[0;34m\u001b[0m\u001b[0m\n\u001b[0m",
      "\u001b[0;32m<ipython-input-11-ca90c6bf9046>\u001b[0m in \u001b[0;36mtrain\u001b[0;34m(model, epochs, path, optimizer, loss_fct)\u001b[0m\n\u001b[1;32m     29\u001b[0m             \u001b[0;31m#loss = loss_function(recon_batch,  x, mu, log_var)\u001b[0m\u001b[0;34m\u001b[0m\u001b[0;34m\u001b[0m\u001b[0;34m\u001b[0m\u001b[0m\n\u001b[1;32m     30\u001b[0m \u001b[0;34m\u001b[0m\u001b[0m\n\u001b[0;32m---> 31\u001b[0;31m             \u001b[0mloss\u001b[0m\u001b[0;34m.\u001b[0m\u001b[0mbackward\u001b[0m\u001b[0;34m(\u001b[0m\u001b[0;34m)\u001b[0m\u001b[0;34m\u001b[0m\u001b[0;34m\u001b[0m\u001b[0m\n\u001b[0m\u001b[1;32m     32\u001b[0m             \u001b[0mtrain_loss\u001b[0m \u001b[0;34m+=\u001b[0m \u001b[0mloss\u001b[0m\u001b[0;34m.\u001b[0m\u001b[0mitem\u001b[0m\u001b[0;34m(\u001b[0m\u001b[0;34m)\u001b[0m\u001b[0;34m\u001b[0m\u001b[0;34m\u001b[0m\u001b[0m\n\u001b[1;32m     33\u001b[0m             \u001b[0moptimizer\u001b[0m\u001b[0;34m.\u001b[0m\u001b[0mstep\u001b[0m\u001b[0;34m(\u001b[0m\u001b[0;34m)\u001b[0m\u001b[0;34m\u001b[0m\u001b[0;34m\u001b[0m\u001b[0m\n",
      "\u001b[0;32m~/OneDrive/deep_vision_project/venv/lib/python3.7/site-packages/torch/tensor.py\u001b[0m in \u001b[0;36mbackward\u001b[0;34m(self, gradient, retain_graph, create_graph)\u001b[0m\n\u001b[1;32m    105\u001b[0m                 \u001b[0mproducts\u001b[0m\u001b[0;34m.\u001b[0m \u001b[0mDefaults\u001b[0m \u001b[0mto\u001b[0m\u001b[0;31m \u001b[0m\u001b[0;31m`\u001b[0m\u001b[0;31m`\u001b[0m\u001b[0;32mFalse\u001b[0m\u001b[0;31m`\u001b[0m\u001b[0;31m`\u001b[0m\u001b[0;34m.\u001b[0m\u001b[0;34m\u001b[0m\u001b[0;34m\u001b[0m\u001b[0m\n\u001b[1;32m    106\u001b[0m         \"\"\"\n\u001b[0;32m--> 107\u001b[0;31m         \u001b[0mtorch\u001b[0m\u001b[0;34m.\u001b[0m\u001b[0mautograd\u001b[0m\u001b[0;34m.\u001b[0m\u001b[0mbackward\u001b[0m\u001b[0;34m(\u001b[0m\u001b[0mself\u001b[0m\u001b[0;34m,\u001b[0m \u001b[0mgradient\u001b[0m\u001b[0;34m,\u001b[0m \u001b[0mretain_graph\u001b[0m\u001b[0;34m,\u001b[0m \u001b[0mcreate_graph\u001b[0m\u001b[0;34m)\u001b[0m\u001b[0;34m\u001b[0m\u001b[0;34m\u001b[0m\u001b[0m\n\u001b[0m\u001b[1;32m    108\u001b[0m \u001b[0;34m\u001b[0m\u001b[0m\n\u001b[1;32m    109\u001b[0m     \u001b[0;32mdef\u001b[0m \u001b[0mregister_hook\u001b[0m\u001b[0;34m(\u001b[0m\u001b[0mself\u001b[0m\u001b[0;34m,\u001b[0m \u001b[0mhook\u001b[0m\u001b[0;34m)\u001b[0m\u001b[0;34m:\u001b[0m\u001b[0;34m\u001b[0m\u001b[0;34m\u001b[0m\u001b[0m\n",
      "\u001b[0;32m~/OneDrive/deep_vision_project/venv/lib/python3.7/site-packages/torch/autograd/__init__.py\u001b[0m in \u001b[0;36mbackward\u001b[0;34m(tensors, grad_tensors, retain_graph, create_graph, grad_variables)\u001b[0m\n\u001b[1;32m     91\u001b[0m     Variable._execution_engine.run_backward(\n\u001b[1;32m     92\u001b[0m         \u001b[0mtensors\u001b[0m\u001b[0;34m,\u001b[0m \u001b[0mgrad_tensors\u001b[0m\u001b[0;34m,\u001b[0m \u001b[0mretain_graph\u001b[0m\u001b[0;34m,\u001b[0m \u001b[0mcreate_graph\u001b[0m\u001b[0;34m,\u001b[0m\u001b[0;34m\u001b[0m\u001b[0;34m\u001b[0m\u001b[0m\n\u001b[0;32m---> 93\u001b[0;31m         allow_unreachable=True)  # allow_unreachable flag\n\u001b[0m\u001b[1;32m     94\u001b[0m \u001b[0;34m\u001b[0m\u001b[0m\n\u001b[1;32m     95\u001b[0m \u001b[0;34m\u001b[0m\u001b[0m\n",
      "\u001b[0;31mKeyboardInterrupt\u001b[0m: "
     ]
    }
   ],
   "source": [
    "train(vae_baseline, epochs_baseline, './models/clustering/baseline', optimizer_baseline, loss_func_baseline)"
   ]
  },
  {
   "cell_type": "markdown",
   "metadata": {},
   "source": [
    "#### Advanced Architecture"
   ]
  },
  {
   "cell_type": "code",
   "execution_count": 17,
   "metadata": {},
   "outputs": [],
   "source": [
    "# hyperparameters\n",
    "latent_dim_advanced = 2 \n",
    "vae_advanced = VAE_advanced()\n",
    "vae_advanced = vae_advanced.to(device)\n",
    "optimizer_advanced = torch.optim.SGD(vae_advanced.parameters(), lr=0.01, momentum=0.9)\n",
    "\n",
    "loss_func_advanced = nn.MSELoss()\n",
    "\n",
    "epochs_advanced = 15"
   ]
  },
  {
   "cell_type": "code",
   "execution_count": 30,
   "metadata": {},
   "outputs": [
    {
     "name": "stdout",
     "output_type": "stream",
     "text": [
      "load previous model\n"
     ]
    },
    {
     "data": {
      "application/vnd.jupyter.widget-view+json": {
       "model_id": "a7cf89f3ff5e474e84c1a857bfe8f871",
       "version_major": 2,
       "version_minor": 0
      },
      "text/plain": [
       "HBox(children=(IntProgress(value=0, description='Train Epoch 3', max=2660, style=ProgressStyle(description_wid…"
      ]
     },
     "metadata": {},
     "output_type": "display_data"
    },
    {
     "ename": "KeyboardInterrupt",
     "evalue": "",
     "output_type": "error",
     "traceback": [
      "\u001b[0;31m---------------------------------------------------------------------------\u001b[0m",
      "\u001b[0;31mKeyboardInterrupt\u001b[0m                         Traceback (most recent call last)",
      "\u001b[0;32m<ipython-input-30-87ca163e8fb2>\u001b[0m in \u001b[0;36m<module>\u001b[0;34m\u001b[0m\n\u001b[0;32m----> 1\u001b[0;31m \u001b[0mtrain\u001b[0m\u001b[0;34m(\u001b[0m\u001b[0mvae_advanced\u001b[0m\u001b[0;34m,\u001b[0m \u001b[0mepochs_advanced\u001b[0m\u001b[0;34m,\u001b[0m \u001b[0;34m'./models/clustering/advanced'\u001b[0m\u001b[0;34m,\u001b[0m \u001b[0moptimizer_advanced\u001b[0m\u001b[0;34m,\u001b[0m \u001b[0mloss_func_advanced\u001b[0m\u001b[0;34m)\u001b[0m\u001b[0;34m\u001b[0m\u001b[0;34m\u001b[0m\u001b[0m\n\u001b[0m",
      "\u001b[0;32m<ipython-input-11-ca90c6bf9046>\u001b[0m in \u001b[0;36mtrain\u001b[0;34m(model, epochs, path, optimizer, loss_fct)\u001b[0m\n\u001b[1;32m     29\u001b[0m             \u001b[0;31m#loss = loss_function(recon_batch,  x, mu, log_var)\u001b[0m\u001b[0;34m\u001b[0m\u001b[0;34m\u001b[0m\u001b[0;34m\u001b[0m\u001b[0m\n\u001b[1;32m     30\u001b[0m \u001b[0;34m\u001b[0m\u001b[0m\n\u001b[0;32m---> 31\u001b[0;31m             \u001b[0mloss\u001b[0m\u001b[0;34m.\u001b[0m\u001b[0mbackward\u001b[0m\u001b[0;34m(\u001b[0m\u001b[0;34m)\u001b[0m\u001b[0;34m\u001b[0m\u001b[0;34m\u001b[0m\u001b[0m\n\u001b[0m\u001b[1;32m     32\u001b[0m             \u001b[0mtrain_loss\u001b[0m \u001b[0;34m+=\u001b[0m \u001b[0mloss\u001b[0m\u001b[0;34m.\u001b[0m\u001b[0mitem\u001b[0m\u001b[0;34m(\u001b[0m\u001b[0;34m)\u001b[0m\u001b[0;34m\u001b[0m\u001b[0;34m\u001b[0m\u001b[0m\n\u001b[1;32m     33\u001b[0m             \u001b[0moptimizer\u001b[0m\u001b[0;34m.\u001b[0m\u001b[0mstep\u001b[0m\u001b[0;34m(\u001b[0m\u001b[0;34m)\u001b[0m\u001b[0;34m\u001b[0m\u001b[0;34m\u001b[0m\u001b[0m\n",
      "\u001b[0;32m~/OneDrive/deep_vision_project/venv/lib/python3.7/site-packages/torch/tensor.py\u001b[0m in \u001b[0;36mbackward\u001b[0;34m(self, gradient, retain_graph, create_graph)\u001b[0m\n\u001b[1;32m    105\u001b[0m                 \u001b[0mproducts\u001b[0m\u001b[0;34m.\u001b[0m \u001b[0mDefaults\u001b[0m \u001b[0mto\u001b[0m\u001b[0;31m \u001b[0m\u001b[0;31m`\u001b[0m\u001b[0;31m`\u001b[0m\u001b[0;32mFalse\u001b[0m\u001b[0;31m`\u001b[0m\u001b[0;31m`\u001b[0m\u001b[0;34m.\u001b[0m\u001b[0;34m\u001b[0m\u001b[0;34m\u001b[0m\u001b[0m\n\u001b[1;32m    106\u001b[0m         \"\"\"\n\u001b[0;32m--> 107\u001b[0;31m         \u001b[0mtorch\u001b[0m\u001b[0;34m.\u001b[0m\u001b[0mautograd\u001b[0m\u001b[0;34m.\u001b[0m\u001b[0mbackward\u001b[0m\u001b[0;34m(\u001b[0m\u001b[0mself\u001b[0m\u001b[0;34m,\u001b[0m \u001b[0mgradient\u001b[0m\u001b[0;34m,\u001b[0m \u001b[0mretain_graph\u001b[0m\u001b[0;34m,\u001b[0m \u001b[0mcreate_graph\u001b[0m\u001b[0;34m)\u001b[0m\u001b[0;34m\u001b[0m\u001b[0;34m\u001b[0m\u001b[0m\n\u001b[0m\u001b[1;32m    108\u001b[0m \u001b[0;34m\u001b[0m\u001b[0m\n\u001b[1;32m    109\u001b[0m     \u001b[0;32mdef\u001b[0m \u001b[0mregister_hook\u001b[0m\u001b[0;34m(\u001b[0m\u001b[0mself\u001b[0m\u001b[0;34m,\u001b[0m \u001b[0mhook\u001b[0m\u001b[0;34m)\u001b[0m\u001b[0;34m:\u001b[0m\u001b[0;34m\u001b[0m\u001b[0;34m\u001b[0m\u001b[0m\n",
      "\u001b[0;32m~/OneDrive/deep_vision_project/venv/lib/python3.7/site-packages/torch/autograd/__init__.py\u001b[0m in \u001b[0;36mbackward\u001b[0;34m(tensors, grad_tensors, retain_graph, create_graph, grad_variables)\u001b[0m\n\u001b[1;32m     91\u001b[0m     Variable._execution_engine.run_backward(\n\u001b[1;32m     92\u001b[0m         \u001b[0mtensors\u001b[0m\u001b[0;34m,\u001b[0m \u001b[0mgrad_tensors\u001b[0m\u001b[0;34m,\u001b[0m \u001b[0mretain_graph\u001b[0m\u001b[0;34m,\u001b[0m \u001b[0mcreate_graph\u001b[0m\u001b[0;34m,\u001b[0m\u001b[0;34m\u001b[0m\u001b[0;34m\u001b[0m\u001b[0m\n\u001b[0;32m---> 93\u001b[0;31m         allow_unreachable=True)  # allow_unreachable flag\n\u001b[0m\u001b[1;32m     94\u001b[0m \u001b[0;34m\u001b[0m\u001b[0m\n\u001b[1;32m     95\u001b[0m \u001b[0;34m\u001b[0m\u001b[0m\n",
      "\u001b[0;31mKeyboardInterrupt\u001b[0m: "
     ]
    }
   ],
   "source": [
    "train(vae_advanced, epochs_advanced, './models/clustering/advanced', optimizer_advanced, loss_func_advanced)"
   ]
  },
  {
   "cell_type": "markdown",
   "metadata": {},
   "source": [
    "### Visualization"
   ]
  },
  {
   "cell_type": "code",
   "execution_count": 27,
   "metadata": {},
   "outputs": [],
   "source": [
    "path2model = max(glob.glob('./models/clustering/advanced' + '/*.pth'))\n",
    "best_model = vae_advanced\n",
    "#best_model_dict = torch.load(path2model)\n",
    "#best_model.load_state_dict(best_model_dict['model_state_dict'])"
   ]
  },
  {
   "cell_type": "code",
   "execution_count": 28,
   "metadata": {},
   "outputs": [
    {
     "data": {
      "image/png": "[encoded data removed]",
      "text/plain": [
       "<Figure size 432x288 with 6 Axes>"
      ]
     },
     "metadata": {},
     "output_type": "display_data"
    }
   ],
   "source": [
    "def imshow(img):\n",
    "    plt.imshow(img)\n",
    "    plt.xticks([])\n",
    "    plt.yticks([])\n",
    "    \n",
    "_, x= next(enumerate(train_loader))\n",
    "samples = x.to(device)\n",
    "samples_rec,   _, _ = best_model(samples)\n",
    "samples_rec = samples_rec.detach().cpu()\n",
    "for i in range(0, 3):\n",
    "    plt.subplot(3,2,2*i+1)\n",
    "    plt.tight_layout()\n",
    "    imshow(samples[i].permute(1, 2, 0))\n",
    "    plt.title(\"Ori. {}\".format(i))\n",
    "\n",
    "    plt.subplot(3, 2, 2*i+2)\n",
    "    plt.tight_layout()\n",
    "    imshow(samples_rec[i].permute(1, 2, 0))\n",
    "    plt.title(\"Rec. {}\".format(i))"
   ]
  },
  {
   "cell_type": "markdown",
   "metadata": {},
   "source": [
    "TODO:\n",
    "- compare different loss functions; in paper they use L2 loss\n",
    "- use other architectures\n",
    "- tune hyperparameters; latent space dimensions\n",
    "- GPU"
   ]
  },
  {
   "cell_type": "markdown",
   "metadata": {},
   "source": [
    "## ResNet"
   ]
  },
  {
   "cell_type": "markdown",
   "metadata": {},
   "source": [
    "### Pretrained Model"
   ]
  },
  {
   "cell_type": "code",
   "execution_count": 48,
   "metadata": {},
   "outputs": [],
   "source": [
    "# load pretrained ResNet from Pytorch\n",
    "resnet = models.resnet50(pretrained=True)"
   ]
  },
  {
   "cell_type": "code",
   "execution_count": 38,
   "metadata": {},
   "outputs": [
    {
     "data": {
      "text/plain": [
       "torch.Size([128, 1000])"
      ]
     },
     "execution_count": 38,
     "metadata": {},
     "output_type": "execute_result"
    }
   ],
   "source": [
    "# original output for 1000 ImageNet classes\n",
    "resnet(samples).shape"
   ]
  },
  {
   "cell_type": "code",
   "execution_count": 49,
   "metadata": {},
   "outputs": [],
   "source": [
    "# drop last layer to get images represented by the last layer\n",
    "modified_resnet = torch.nn.Sequential(*(list(resnet.children())[:-1]))"
   ]
  },
  {
   "cell_type": "code",
   "execution_count": 50,
   "metadata": {},
   "outputs": [
    {
     "data": {
      "text/plain": [
       "torch.Size([128, 2048, 1, 1])"
      ]
     },
     "execution_count": 50,
     "metadata": {},
     "output_type": "execute_result"
    }
   ],
   "source": [
    "modified_resnet(samples).shape"
   ]
  },
  {
   "cell_type": "markdown",
   "metadata": {},
   "source": [
    "### Encode Icons"
   ]
  },
  {
   "cell_type": "code",
   "execution_count": null,
   "metadata": {},
   "outputs": [],
   "source": [
    "icon_features = np.array()"
   ]
  },
  {
   "cell_type": "code",
   "execution_count": null,
   "metadata": {},
   "outputs": [],
   "source": [
    "for batch_idx, data in enumerate(tqdm(train_loader, desc=f'Encode Train Set', leave=False)):\n",
    "    x = data\n",
    "    x = x.to(device)\n",
    "    features = modified_resnet(x)"
   ]
  },
  {
   "cell_type": "code",
   "execution_count": null,
   "metadata": {},
   "outputs": [],
   "source": []
  },
  {
   "cell_type": "code",
   "execution_count": null,
   "metadata": {},
   "outputs": [],
   "source": []
  },
  {
   "cell_type": "code",
   "execution_count": null,
   "metadata": {},
   "outputs": [],
   "source": []
  },
  {
   "cell_type": "markdown",
   "metadata": {},
   "source": [
    "TODO:\n",
    "- other network: Code: https://github.com/KaimingHe/deep-residual-networks (ResNet-50)"
   ]
  },
  {
   "cell_type": "code",
   "execution_count": null,
   "metadata": {},
   "outputs": [],
   "source": []
  }
 ],
 "metadata": {
  "kernelspec": {
   "display_name": "deep_vision_project",
   "language": "python",
   "name": "deep_vision_project"
  },
  "language_info": {
   "codemirror_mode": {
    "name": "ipython",
    "version": 3
   },
   "file_extension": ".py",
   "mimetype": "text/x-python",
   "name": "python",
   "nbconvert_exporter": "python",
   "pygments_lexer": "ipython3",
   "version": "3.7.3"
  }
 },
 "nbformat": 4,
 "nbformat_minor": 2
}
